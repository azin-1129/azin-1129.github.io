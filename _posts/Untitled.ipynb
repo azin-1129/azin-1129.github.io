{
 "cells": [
  {
   "cell_type": "code",
   "execution_count": 1,
   "metadata": {},
   "outputs": [
    {
     "name": "stdout",
     "output_type": "stream",
     "text": [
      "5 choco\n",
      "hangul choco scrap physics rengoku\n",
      "2\n"
     ]
    }
   ],
   "source": [
    "#20220304\n",
    "\n",
    "#7-1 순차 탐색 소스코드\n",
    "\n",
    "def sequential_search(n,target,array):\n",
    "    for i in range(n): # n번 중에 i번째가 target이면 인덱스를 반환하는 함수\n",
    "        if array[i]==target:\n",
    "            return i+1\n",
    "        \n",
    "input_data=input().split()\n",
    "n=int(input_data[0])\n",
    "target=input_data[1]\n",
    "\n",
    "array=input().split()\n",
    "\n",
    "print(sequential_search(n,target,array))"
   ]
  },
  {
   "cell_type": "code",
   "execution_count": 5,
   "metadata": {},
   "outputs": [
    {
     "name": "stdout",
     "output_type": "stream",
     "text": [
      "10 7\n",
      "1 3 5 6 9 11 13 15 17 19\n",
      "원소가 존재하지 않습니다.\n"
     ]
    }
   ],
   "source": [
    "#이진 탐색\n",
    "\n",
    "#7-2. 재귀함수\n",
    "\n",
    "def binary_search(array,target,start,end):\n",
    "    if start>end:\n",
    "        return None\n",
    "    \n",
    "    mid=(start+end)//2\n",
    "    \n",
    "    if array[mid]==target:\n",
    "        return mid\n",
    "    elif array[mid]>target:\n",
    "        return binary_search(array,target,start,mid-1)\n",
    "    else:\n",
    "        return binary_search(array,target,mid+1,end)\n",
    "    \n",
    "n,target=list(map(int,input().split())) # 원소 개수, target\n",
    "array=list(map(int,input().split()))\n",
    "result=binary_search(array,target,0,n-1)\n",
    "\n",
    "if result==None:\n",
    "    print(\"원소가 존재하지 않습니다.\")\n",
    "else:\n",
    "    print(result+1)"
   ]
  },
  {
   "cell_type": "code",
   "execution_count": 3,
   "metadata": {},
   "outputs": [
    {
     "name": "stdout",
     "output_type": "stream",
     "text": [
      "10 7\n",
      "1 3 5 6 9 11 13 15 17 19\n",
      "원소가 존재하지 않습니다.\n"
     ]
    }
   ],
   "source": [
    "#7-3 반복문\n",
    "\n",
    "def binary_search(array,target,start,end):\n",
    "    while start<=end:\n",
    "        mid=(start+end)//2\n",
    "        \n",
    "        if array[mid]==target:\n",
    "            return mid\n",
    "        elif array[mid]>target:\n",
    "            end=mid-1\n",
    "        else:\n",
    "            start=mid+1\n",
    "        \n",
    "    return None\n",
    "    \n",
    "n,target=list(map(int,input().split()))\n",
    "array=list(map(int,input().split()))\n",
    "\n",
    "result=binary_search(array,target,0,n-1)\n",
    "\n",
    "if result==None:\n",
    "    print(\"원소가 존재하지 않습니다.\")\n",
    "else:\n",
    "    print(result+1)"
   ]
  },
  {
   "cell_type": "code",
   "execution_count": 6,
   "metadata": {},
   "outputs": [
    {
     "name": "stdout",
     "output_type": "stream",
     "text": [
      "\n"
     ]
    }
   ],
   "source": [
    "# 7-4\n",
    "\n",
    "import sys\n",
    "\n",
    "input_data=sys.stdin.readline().rstrip()\n",
    "\n",
    "print(input_data)"
   ]
  },
  {
   "cell_type": "code",
   "execution_count": 10,
   "metadata": {},
   "outputs": [
    {
     "name": "stdout",
     "output_type": "stream",
     "text": [
      "5\n",
      "8 3 7 9 2\n",
      "3\n",
      "5 7 9\n",
      "no yes yes 소요 시간: 0.0010006427764892578\n"
     ]
    }
   ],
   "source": [
    "#2. 부품 찾기 197p. 정렬해야함\n",
    "import time\n",
    "\n",
    "def binary_search(array,target,start,end):\n",
    "    if start>end:\n",
    "        return \"no\"\n",
    "    \n",
    "    mid=(start+end)//2\n",
    "    \n",
    "    if array[mid]==target:\n",
    "        return \"yes\"\n",
    "    elif array[mid]>target:\n",
    "        return binary_search(array,target,start,mid-1)\n",
    "    else:\n",
    "        return binary_search(array,target,mid+1,end)\n",
    "    \n",
    "N=int(input()) # 가게 부품 갯수\n",
    "shop=sorted(list(map(int,input().split()))) # 가게 부품\n",
    "\n",
    "M=int(input()) # 고객 요청 부품 갯수\n",
    "custom=list(map(int,input().split())) # 고객 요청 리스트\n",
    "\n",
    "start=time.time()\n",
    "\n",
    "for i in range(M):\n",
    "    print(binary_search(shop,custom[i],0,N-1),end=\" \")\n",
    "    \n",
    "end=time.time()-start\n",
    "\n",
    "print(\"소요 시간:\",end)"
   ]
  },
  {
   "cell_type": "code",
   "execution_count": 11,
   "metadata": {},
   "outputs": [
    {
     "name": "stdout",
     "output_type": "stream",
     "text": [
      "5\n",
      "8 3 7 9 2\n",
      "3\n",
      "5 7 9\n",
      "no yes yes 소요 시간: 0.0010144710540771484\n"
     ]
    }
   ],
   "source": [
    "#7-5 이진 탐색 답안 예시\n",
    "def binary_search(array,target,start,end):\n",
    "    while start<=end:\n",
    "        mid=(start+end)//2\n",
    "        \n",
    "        if array[mid]==target:\n",
    "            return mid\n",
    "        elif array[mid]>target:\n",
    "            end=mid-1\n",
    "        else:\n",
    "            start=mid+1\n",
    "    return None\n",
    "\n",
    "n=int(input()) # 가게 부품 개수\n",
    "array=list(map(int,input().split())) # 가게 부품 번호\n",
    "array.sort() # 이진 탐색을 하기 위해 정렬\n",
    "m=int(input()) # 손님 요청 부품 개수\n",
    "x=list(map(int,input().split())) # 요청 부품 번호\n",
    "\n",
    "start=time.time()\n",
    "\n",
    "for i in x:\n",
    "    result=binary_search(array,i,0,n-1)\n",
    "    if result != None:\n",
    "        print('yes',end=' ')\n",
    "    else:\n",
    "        print('no',end=' ')\n",
    "        \n",
    "end=time.time()-start\n",
    "print(\"소요 시간:\",end)"
   ]
  },
  {
   "cell_type": "code",
   "execution_count": 12,
   "metadata": {},
   "outputs": [
    {
     "name": "stdout",
     "output_type": "stream",
     "text": [
      "5\n",
      "8 3 7 9 2\n",
      "3\n",
      "5 7 9\n",
      "no yes yes 소요 시간: 0.009002208709716797\n"
     ]
    }
   ],
   "source": [
    "# 7-6. 답안 예시(계수 정렬)\n",
    "\n",
    "n=int(input())\n",
    "start1=time.time()\n",
    "array=[0]*1000001\n",
    "start2=time.time()-start1\n",
    "\n",
    "for i in input().split():\n",
    "    array[int(i)]=1\n",
    "\n",
    "m=int(input())\n",
    "x=list(map(int,input().split()))\n",
    "\n",
    "start3=time.time()\n",
    "for i in x:\n",
    "    if array[i]==1:\n",
    "        print('yes',end=' ')\n",
    "    else:\n",
    "        print('no',end=' ')\n",
    "start4=time.time()-start3+start2\n",
    "\n",
    "print(\"소요 시간:\",start4)"
   ]
  },
  {
   "cell_type": "code",
   "execution_count": 13,
   "metadata": {},
   "outputs": [
    {
     "name": "stdout",
     "output_type": "stream",
     "text": [
      "5\n",
      "8 3 7 9 2\n",
      "3\n",
      "5 7 9\n",
      "no yes yes 소요 시간: 0.0029969215393066406\n"
     ]
    }
   ],
   "source": [
    "# 7-7 set() 이용\n",
    "\n",
    "n=int(input())\n",
    "array=set(map(int,input().split()))\n",
    "\n",
    "m=int(input())\n",
    "x=list(map(int,input().split()))\n",
    "\n",
    "start=time.time()\n",
    "for i in x:\n",
    "    if i in array:\n",
    "        print('yes',end=' ')\n",
    "    else:\n",
    "        print('no',end=' ')\n",
    "end=time.time()-start\n",
    "print(\"소요 시간:\",end)"
   ]
  },
  {
   "cell_type": "code",
   "execution_count": 14,
   "metadata": {},
   "outputs": [
    {
     "name": "stdout",
     "output_type": "stream",
     "text": [
      "5\n",
      "8 3 7 9 2\n",
      "3\n",
      "5 7 9\n",
      "no yes yes 소요 시간: 0.0009827613830566406\n"
     ]
    }
   ],
   "source": [
    "# 실험\n",
    "\n",
    "n=int(input())\n",
    "array=list(map(int,input().split()))\n",
    "\n",
    "m=int(input())\n",
    "x=list(map(int,input().split()))\n",
    "\n",
    "start=time.time()\n",
    "for i in x:\n",
    "    if i in array:\n",
    "        print('yes',end=' ')\n",
    "    else:\n",
    "        print('no',end=' ')\n",
    "end=time.time()-start\n",
    "print(\"소요 시간:\",end)"
   ]
  },
  {
   "cell_type": "markdown",
   "metadata": {},
   "source": [
    "# 결과 모음\n",
    "나:   0.0010006427764892578\n",
    "이진: 0.0010144710540771484\n",
    "계수: 0.009002208709716797\n",
    "set:  0.0029969215393066406"
   ]
  }
 ],
 "metadata": {
  "kernelspec": {
   "display_name": "Python 3",
   "language": "python",
   "name": "python3"
  },
  "language_info": {
   "codemirror_mode": {
    "name": "ipython",
    "version": 3
   },
   "file_extension": ".py",
   "mimetype": "text/x-python",
   "name": "python",
   "nbconvert_exporter": "python",
   "pygments_lexer": "ipython3",
   "version": "3.8.3"
  }
 },
 "nbformat": 4,
 "nbformat_minor": 4
}
